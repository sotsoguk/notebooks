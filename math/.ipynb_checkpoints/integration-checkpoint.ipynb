{
 "cells": [
  {
   "cell_type": "markdown",
   "metadata": {},
   "source": [
    "# Numerical Integration\n",
    "\n",
    "Using a simple rectangular approximation, this notebook will perform a very basic numerical integration."
   ]
  },
  {
   "cell_type": "code",
   "execution_count": 96,
   "metadata": {},
   "outputs": [],
   "source": [
    "# config\n",
    "\n",
    "def f(x):\n",
    "    return (x**2)\n",
    "\n",
    "a = 1 # lower bound\n",
    "b = 3 # upper bound\n",
    "maxIter = 10 # up to 2**n slices\n",
    "\n",
    "\n",
    "# all imports\n",
    "import math\n",
    "from sympy import *\n",
    "import numpy as np\n",
    "import matplotlib.pyplot as plt\n",
    "import matplotlib.patches as patches\n",
    "\n",
    "# compute the approximation with n rectangles of integral of function f from a to b. \n",
    "\n",
    "def intsum(f,a,b,n):\n",
    "    interval = b-a\n",
    "    delta = interval / n\n",
    "    value = 0\n",
    "    for i in range(0,n):\n",
    "        value += (delta * f( a + i * delta))\n",
    "    return value\n",
    "\n",
    "def intApprox(f,m,a,b):\n",
    "    for s in range(0,m):\n",
    "        intervals = 2**s\n",
    "        tmpsum = intsum(f,a,b,intervals)\n",
    "        print(\"{}:\\t{}\\t{:8.5f}\".format(s,intervals,tmpsum))"
   ]
  },
  {
   "cell_type": "code",
   "execution_count": 74,
   "metadata": {},
   "outputs": [],
   "source": []
  },
  {
   "cell_type": "code",
   "execution_count": 94,
   "metadata": {},
   "outputs": [
    {
     "name": "stdout",
     "output_type": "stream",
     "text": [
      "0:\t1\t 2.00000\n",
      "1:\t2\t 5.00000\n",
      "2:\t4\t 6.75000\n",
      "3:\t8\t 7.68750\n",
      "4:\t16\t 8.17188\n",
      "5:\t32\t 8.41797\n",
      "6:\t64\t 8.54199\n",
      "7:\t128\t 8.60425\n",
      "8:\t256\t 8.63544\n",
      "9:\t512\t 8.65105\n"
     ]
    }
   ],
   "source": [
    "intApprox(f,maxIter,a,b)"
   ]
  },
  {
   "cell_type": "markdown",
   "metadata": {},
   "source": [
    "## Plot function with approximation"
   ]
  },
  {
   "cell_type": "code",
   "execution_count": 99,
   "metadata": {},
   "outputs": [
    {
     "data": {
      "text/plain": [
       "[<matplotlib.lines.Line2D at 0x1d5590027f0>]"
      ]
     },
     "execution_count": 99,
     "metadata": {},
     "output_type": "execute_result"
    },
    {
     "data": {
      "image/png": "[encoded data removed]",
      "text/plain": [
       "<Figure size 432x288 with 1 Axes>"
      ]
     },
     "metadata": {
      "needs_background": "light"
     },
     "output_type": "display_data"
    }
   ],
   "source": [
    "steps = 40\n",
    "\n",
    "x = np.linspace(a,b,100)\n",
    "y = f(x)\n",
    "\n",
    "\n",
    "delta = (b - a) / steps\n",
    "fig = plt.figure()\n",
    "ax = fig.add_subplot(1,1,1)\n",
    "for i in range(0,steps):\n",
    "    ret = plt.Rectangle((low+i*delta,0),delta,f(low+i*delta),edgecolor='none',facecolor='gray')\n",
    "    ax.add_patch(ret)\n",
    "ax.plot(x,y)"
   ]
  },
  {
   "cell_type": "markdown",
   "metadata": {},
   "source": [
    "## Symbolic integration (using SymPy)"
   ]
  },
  {
   "cell_type": "code",
   "execution_count": 92,
   "metadata": {},
   "outputs": [
    {
     "data": {
      "text/plain": [
       "8.66666666666667"
      ]
     },
     "execution_count": 92,
     "metadata": {},
     "output_type": "execute_result"
    }
   ],
   "source": [
    "# define the variable\n",
    "x = Symbol('x')\n",
    "\n",
    "integrate(x**2,(x,1,3))\n",
    "integrate(x**2,(x,1,3)).evalf()"
   ]
  },
  {
   "cell_type": "code",
   "execution_count": null,
   "metadata": {},
   "outputs": [],
   "source": []
  }
 ],
 "metadata": {
  "kernelspec": {
   "display_name": "Python 3",
   "language": "python",
   "name": "python3"
  },
  "language_info": {
   "codemirror_mode": {
    "name": "ipython",
    "version": 3
   },
   "file_extension": ".py",
   "mimetype": "text/x-python",
   "name": "python",
   "nbconvert_exporter": "python",
   "pygments_lexer": "ipython3",
   "version": "3.7.3"
  }
 },
 "nbformat": 4,
 "nbformat_minor": 2
}
