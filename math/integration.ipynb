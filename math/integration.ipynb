{
 "cells": [
  {
   "cell_type": "markdown",
   "metadata": {},
   "source": [
    "# Numerical Integration\n",
    "\n",
    "Using a simple rectangular approximation, this notebook will perform a very basic numerical integration."
   ]
  },
  {
   "cell_type": "code",
   "execution_count": 138,
   "metadata": {},
   "outputs": [],
   "source": [
    "# config\n",
    "\n",
    "def f(x):\n",
    "    return (1/x)\n",
    "\n",
    "a = 0.5 # lower bound\n",
    "b = 5 # upper bound\n",
    "maxIter = 10 # up to 2**n slices\n",
    "\n",
    "\n",
    "# all imports\n",
    "import math\n",
    "from sympy import *\n",
    "import numpy as np\n",
    "import matplotlib.pyplot as plt\n",
    "import matplotlib.patches as patches\n",
    "\n",
    "# compute the approximation with n rectangles of integral of function f from a to b. \n",
    "\n",
    "def intsum(f,a,b,n):\n",
    "    interval = b-a\n",
    "    delta = interval / n\n",
    "    value = 0\n",
    "    for i in range(0,n):\n",
    "        value += (delta * f( a + i * delta))\n",
    "    return value\n",
    "\n",
    "def trapsum(f,a,b,n):\n",
    "    interval = b-a\n",
    "    delta = interval / n\n",
    "    xs = np.linspace(a,b,n+1)\n",
    "    ys = f(xs)\n",
    "    value = 0\n",
    "    for i in range(0,n):\n",
    "        value += delta * (ys[i]+ys[i+1])/2\n",
    "    return value\n",
    "\n",
    "def intApprox(f,m,a,b):\n",
    "    print(\"N\\tParts\\tRect\\t\\tTrapezoid\")\n",
    "    print('-'*40)\n",
    "    for s in range(0,m):\n",
    "        intervals = 2**s\n",
    "        tmpsum = intsum(f,a,b,intervals)\n",
    "        tmpsumt = trapsum(f,a,b,intervals)\n",
    "        print(\"{}:\\t{}\\t{:8.5f}\\t{:8.5f}\".format(s,intervals,tmpsum,tmpsumt))"
   ]
  },
  {
   "cell_type": "code",
   "execution_count": 135,
   "metadata": {},
   "outputs": [
    {
     "name": "stdout",
     "output_type": "stream",
     "text": [
      "N\tParts\tRect\t\tTrapezoid\n",
      "----------------------------------------\n",
      "0:\t1\t 9.00000\t 4.95000\n",
      "1:\t2\t 5.31818\t 3.29318\n",
      "2:\t4\t 3.64172\t 2.62922\n",
      "3:\t8\t 2.90399\t 2.39774\n",
      "4:\t16\t 2.58108\t 2.32795\n",
      "5:\t32\t 2.43562\t 2.30906\n",
      "6:\t64\t 2.36749\t 2.30421\n",
      "7:\t128\t 2.33463\t 2.30299\n",
      "8:\t256\t 2.31851\t 2.30269\n",
      "9:\t512\t 2.31052\t 2.30261\n"
     ]
    }
   ],
   "source": [
    "intApprox(f,maxIter,a,b)"
   ]
  },
  {
   "cell_type": "markdown",
   "metadata": {},
   "source": [
    "## Plot function with approximation"
   ]
  },
  {
   "cell_type": "code",
   "execution_count": 142,
   "metadata": {},
   "outputs": [
    {
     "data": {
      "text/plain": [
       "[<matplotlib.lines.Line2D at 0x1d55abdceb8>]"
      ]
     },
     "execution_count": 142,
     "metadata": {},
     "output_type": "execute_result"
    },
    {
     "data": {
      "image/png": "[encoded data removed]",
      "text/plain": [
       "<Figure size 432x288 with 1 Axes>"
      ]
     },
     "metadata": {
      "needs_background": "light"
     },
     "output_type": "display_data"
    }
   ],
   "source": [
    "steps = 4\n",
    "\n",
    "x = np.linspace(a,b,100)\n",
    "y = f(x)\n",
    "\n",
    "\n",
    "delta = (b - a) / steps\n",
    "fig = plt.figure()\n",
    "ax = fig.add_subplot(1,1,1)\n",
    "for i in range(0,steps):\n",
    "    ret = plt.Rectangle((a+i*delta,0),delta,f(a+i*delta),edgecolor='none',facecolor='gray')\n",
    "    ax.add_patch(ret)\n",
    "ax.plot(x,y)"
   ]
  },
  {
   "cell_type": "code",
   "execution_count": 143,
   "metadata": {},
   "outputs": [
    {
     "data": {
      "text/plain": [
       "[<matplotlib.lines.Line2D at 0x1d55ac4b9b0>]"
      ]
     },
     "execution_count": 143,
     "metadata": {},
     "output_type": "execute_result"
    },
    {
     "data": {
      "image/png": "[encoded data removed]",
      "text/plain": [
       "<Figure size 432x288 with 1 Axes>"
      ]
     },
     "metadata": {
      "needs_background": "light"
     },
     "output_type": "display_data"
    }
   ],
   "source": [
    "steps = 4\n",
    "\n",
    "x = np.linspace(a,b,100)\n",
    "y = f(x)\n",
    "\n",
    "delta = (b - a) / steps\n",
    "xs = np.linspace(a,b,steps+1)\n",
    "ys = f(xs)\n",
    "fig = plt.figure()\n",
    "ax = fig.add_subplot(1,1,1)\n",
    "for i in range(0,steps):\n",
    "    #ret = plt.Rectangle((low+i*delta,0),delta,f(low+i*delta),edgecolor='none',facecolor='gray')\n",
    "    #ax.add_patch(ret)\n",
    "    x1 = a + i*delta\n",
    "    x2 = a + (i+1)*delta\n",
    "    poly = plt.Polygon([[x1,0],[x1,f(x1)],[x2,f(x2)],[x2,0]],True,edgecolor='none', facecolor='gray' )\n",
    "    #poly = Polygon([(1,1),(1,2),(2,2),(3,2),(1,1)])\n",
    "    ax.add_patch(poly)\n",
    "ax.plot(x,y)"
   ]
  },
  {
   "cell_type": "markdown",
   "metadata": {},
   "source": [
    "## Symbolic integration (using SymPy)"
   ]
  },
  {
   "cell_type": "code",
   "execution_count": 92,
   "metadata": {},
   "outputs": [
    {
     "data": {
      "text/plain": [
       "8.66666666666667"
      ]
     },
     "execution_count": 92,
     "metadata": {},
     "output_type": "execute_result"
    }
   ],
   "source": [
    "# define the variable\n",
    "x = Symbol('x')\n",
    "\n",
    "integrate(x**2,(x,1,3))\n",
    "integrate(x**2,(x,1,3)).evalf()"
   ]
  },
  {
   "cell_type": "code",
   "execution_count": 112,
   "metadata": {},
   "outputs": [
    {
     "data": {
      "text/plain": [
       "array([1. , 1.5, 2. ])"
      ]
     },
     "execution_count": 112,
     "metadata": {},
     "output_type": "execute_result"
    }
   ],
   "source": []
  },
  {
   "cell_type": "code",
   "execution_count": null,
   "metadata": {},
   "outputs": [],
   "source": []
  }
 ],
 "metadata": {
  "kernelspec": {
   "display_name": "Python 3",
   "language": "python",
   "name": "python3"
  },
  "language_info": {
   "codemirror_mode": {
    "name": "ipython",
    "version": 3
   },
   "file_extension": ".py",
   "mimetype": "text/x-python",
   "name": "python",
   "nbconvert_exporter": "python",
   "pygments_lexer": "ipython3",
   "version": "3.7.3"
  }
 },
 "nbformat": 4,
 "nbformat_minor": 2
}
